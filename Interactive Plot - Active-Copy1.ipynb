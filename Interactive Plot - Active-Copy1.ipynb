{
 "cells": [
  {
   "cell_type": "code",
   "execution_count": 1,
   "metadata": {},
   "outputs": [],
   "source": [
    "from ipywidgets import interact, interactive, fixed, interact_manual\n",
    "import ipywidgets as widgets\n",
    "from bqplot import pyplot as plt\n",
    "import numpy as np\n",
    "from scipy.integrate import odeint\n",
    "import pandas as pd\n",
    "from scipy.optimize import curve_fit"
   ]
  },
  {
   "cell_type": "markdown",
   "metadata": {},
   "source": [
    "Step 1: Defining variables"
   ]
  },
  {
   "cell_type": "code",
   "execution_count": 2,
   "metadata": {},
   "outputs": [],
   "source": [
    "N = 5.46e6\n",
    "t = np.linspace(0,70,70)\n",
    "data = pd.read_csv('minnesota_data.csv')\n",
    "good_days = data.index >= 210\n",
    "confirmed = data.Confirmed\n",
    "recovered = data.Recovered\n",
    "death = data.Deaths\n",
    "sus = N-confirmed - recovered - death\n",
    "active = data.Active"
   ]
  },
  {
   "cell_type": "markdown",
   "metadata": {},
   "source": [
    "Step 2: Create functions that calculates the susceptible, active, and recovered population. "
   ]
  },
  {
   "cell_type": "code",
   "execution_count": 3,
   "metadata": {},
   "outputs": [],
   "source": [
    "def calc(b,g):\n",
    "    I0, R0 = 12817,114679\n",
    "    S0 = N - I0 - R0\n",
    "    beta, gamma = b, g \n",
    "\n",
    "    def deriv(y, t, N, beta, gamma):\n",
    "        S, I, R = y\n",
    "        dSdt = -beta * S * I / N\n",
    "        dIdt = beta * S * I / N - gamma * I\n",
    "        dRdt = gamma * I\n",
    "        return dSdt, dIdt, dRdt\n",
    "\n",
    "    y0 = S0, I0, R0\n",
    "    ret = odeint(deriv, y0, t, args=(N, beta, gamma))\n",
    "    return ret.T\n",
    "\n",
    "def graph(b,g):\n",
    "    S,I,R= calc(b,g)\n",
    "    fig.marks[0].y = I/N\n",
    "    fig.title=f'Active, contact: {b*100:.2f}%, recovery: {g*100:.2f}%'"
   ]
  },
  {
   "cell_type": "markdown",
   "metadata": {},
   "source": [
    "Step 3: Execute the calc function for SIR population. Plot the active population (SIR model versus actual data)."
   ]
  },
  {
   "cell_type": "code",
   "execution_count": 4,
   "metadata": {},
   "outputs": [
    {
     "data": {
      "application/vnd.jupyter.widget-view+json": {
       "model_id": "de75ace798fa46c181d87b51111ba8fa",
       "version_major": 2,
       "version_minor": 0
      },
      "text/plain": [
       "VBox(children=(Figure(axes=[Axis(scale=LinearScale()), Axis(orientation='vertical', scale=LinearScale())], fig…"
      ]
     },
     "metadata": {},
     "output_type": "display_data"
    },
    {
     "data": {
      "application/vnd.jupyter.widget-view+json": {
       "model_id": "ad83a86715ae4fe8a0b00f8168380b8a",
       "version_major": 2,
       "version_minor": 0
      },
      "text/plain": [
       "interactive(children=(FloatSlider(value=0.55, description='b', max=1.0, min=0.1, step=0.01), FloatSlider(value…"
      ]
     },
     "metadata": {},
     "output_type": "display_data"
    },
    {
     "data": {
      "text/plain": [
       "<function __main__.graph(b, g)>"
      ]
     },
     "execution_count": 4,
     "metadata": {},
     "output_type": "execute_result"
    }
   ],
   "source": [
    "S,I,R= calc(0.90,0.80)\n",
    "\n",
    "fig = plt.figure(1, title='Active Population',animation_speed=1000)\n",
    "plt.plot(t, I/N, 'r--', alpha=0.5, lw=2, labels=['SIR'])\n",
    "index = data.index[good_days]\n",
    "plt.plot(index[60:]-data.index[good_days][60],active[good_days][60:]/N,'b-',labels=['Actual Data'])\n",
    "plt.legend()\n",
    "plt.show()\n",
    "\n",
    "interact(graph,b=(0.1,1.0,0.01),g=(0.1,1.0,0.01))"
   ]
  },
  {
   "cell_type": "markdown",
   "metadata": {},
   "source": [
    "Step 4: Create function to calculate the best fit values of beta and gamma."
   ]
  },
  {
   "cell_type": "code",
   "execution_count": 5,
   "metadata": {},
   "outputs": [
    {
     "data": {
      "text/plain": [
       "array([0.53535302, 0.46634393])"
      ]
     },
     "execution_count": 5,
     "metadata": {},
     "output_type": "execute_result"
    }
   ],
   "source": [
    "def h(t,b,g):\n",
    "    S,I,R = calc(b,g)\n",
    "    return I/N\n",
    "\n",
    "x = t\n",
    "y = active[good_days][60:130]/N\n",
    "popt, pcov = curve_fit(h, x, y)\n",
    "popt"
   ]
  },
  {
   "cell_type": "markdown",
   "metadata": {},
   "source": [
    "Step 5: Calculate the uncertainty"
   ]
  },
  {
   "cell_type": "code",
   "execution_count": 6,
   "metadata": {},
   "outputs": [
    {
     "data": {
      "text/plain": [
       "array([0.00754759, 0.00643357])"
      ]
     },
     "execution_count": 6,
     "metadata": {},
     "output_type": "execute_result"
    }
   ],
   "source": [
    "perr = np.sqrt(np.diag(pcov))\n",
    "perr"
   ]
  }
 ],
 "metadata": {
  "kernelspec": {
   "display_name": "Python 3",
   "language": "python",
   "name": "python3"
  },
  "language_info": {
   "codemirror_mode": {
    "name": "ipython",
    "version": 3
   },
   "file_extension": ".py",
   "mimetype": "text/x-python",
   "name": "python",
   "nbconvert_exporter": "python",
   "pygments_lexer": "ipython3",
   "version": "3.8.6"
  }
 },
 "nbformat": 4,
 "nbformat_minor": 4
}
