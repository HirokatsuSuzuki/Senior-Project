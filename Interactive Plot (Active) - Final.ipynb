{
 "cells": [
  {
   "cell_type": "code",
   "execution_count": 1,
   "metadata": {},
   "outputs": [],
   "source": [
    "from ipywidgets import interact, interactive, fixed, interact_manual\n",
    "import ipywidgets as widgets\n",
    "from bqplot import pyplot as plt\n",
    "import numpy as np\n",
    "from scipy.integrate import odeint\n",
    "import pandas as pd\n",
    "from scipy.optimize import curve_fit"
   ]
  },
  {
   "cell_type": "markdown",
   "metadata": {},
   "source": [
    "- Step 1 Defining variables."
   ]
  },
  {
   "cell_type": "code",
   "execution_count": 2,
   "metadata": {},
   "outputs": [],
   "source": [
    "#Total population of the state of Minnesota\n",
    "N = 5.46e6\n",
    "\n",
    "#The range of time used in the SIR model\n",
    "t = np.linspace(0,70,70)\n",
    "\n",
    "#Reading data and assigning variables to each data column\n",
    "data = pd.read_csv('minnesota_data.csv')\n",
    "good_days = data.index >= 210\n",
    "confirmed = data.Confirmed\n",
    "recovered = data.Recovered\n",
    "death = data.Deaths\n",
    "sus = N-confirmed - recovered - death\n",
    "active = data.Active"
   ]
  },
  {
   "cell_type": "markdown",
   "metadata": {},
   "source": [
    "- Step 2 Create functions that calculates the susceptible, active, and recovered population. "
   ]
  },
  {
   "cell_type": "code",
   "execution_count": 3,
   "metadata": {},
   "outputs": [],
   "source": [
    "def calc(b,g):\n",
    "    \"\"\"\n",
    "    Function to calculate and return SIR population.\n",
    "    \n",
    "    Parameters\n",
    "    ------------------------------------------------\n",
    "    b: transmission rate \n",
    "    g: recovery rate\n",
    "    \"\"\"\n",
    "    \n",
    "    I0, R0 = 12817,114679\n",
    "    S0 = N - I0 - R0\n",
    "    beta, gamma = b, g \n",
    "\n",
    "    def deriv(y, t, N, beta, gamma):\n",
    "        \"\"\"\n",
    "        Function to derive the SIR differential equations.\n",
    "    \n",
    "        Parameters\n",
    "        ------------------------------------------------\n",
    "        y: variable\n",
    "        t: range of time\n",
    "        N: total population\n",
    "        beta: transmission rate \n",
    "        gamma: recovery rate\n",
    "        \"\"\"\n",
    "        \n",
    "        S, I, R = y\n",
    "        dSdt = -beta * S * I / N\n",
    "        dIdt = beta * S * I / N - gamma * I\n",
    "        dRdt = gamma * I\n",
    "        return dSdt, dIdt, dRdt\n",
    "\n",
    "    y0 = S0, I0, R0\n",
    "    ret = odeint(deriv, y0, t, args=(N, beta, gamma))\n",
    "    return ret.T\n",
    "\n",
    "def graph(b,g):\n",
    "    \"\"\"\n",
    "    Function to plot the SIR model\n",
    "    \n",
    "    Parameters\n",
    "    ------------------------------------------------\n",
    "    b: transmission rate \n",
    "    g: recovery rate\n",
    "    \"\"\"\n",
    "    \n",
    "    S,I,R= calc(b,g)\n",
    "    fig.marks[0].y = I/N\n",
    "    fig.title=f'Active, contact: {b*100:.2f}%, recovery: {g*100:.2f}%'"
   ]
  },
  {
   "cell_type": "markdown",
   "metadata": {},
   "source": [
    "- Step 3 Execute the calc function. Plot the active population (SIR model versus actual data). User can use the bars to change the beta and gamma."
   ]
  },
  {
   "cell_type": "code",
   "execution_count": 4,
   "metadata": {},
   "outputs": [
    {
     "data": {
      "application/vnd.jupyter.widget-view+json": {
       "model_id": "2d3797fde2ff463e9f6c6ff49bb163e7",
       "version_major": 2,
       "version_minor": 0
      },
      "text/plain": [
       "VBox(children=(Figure(axes=[Axis(scale=LinearScale()), Axis(orientation='vertical', scale=LinearScale())], fig…"
      ]
     },
     "metadata": {},
     "output_type": "display_data"
    },
    {
     "data": {
      "application/vnd.jupyter.widget-view+json": {
       "model_id": "dc13705ea2a2454f93d844d3f4021ed1",
       "version_major": 2,
       "version_minor": 0
      },
      "text/plain": [
       "interactive(children=(FloatSlider(value=0.55, description='b', max=1.0, min=0.1, step=0.01), FloatSlider(value…"
      ]
     },
     "metadata": {},
     "output_type": "display_data"
    },
    {
     "data": {
      "text/plain": [
       "<function __main__.graph(b, g)>"
      ]
     },
     "execution_count": 4,
     "metadata": {},
     "output_type": "execute_result"
    }
   ],
   "source": [
    "#Calculate the SIR population using calc function\n",
    "S,I,R= calc(0.90,0.80)\n",
    "\n",
    "#Plot the graphs with actual data\n",
    "fig = plt.figure(1, title='Active Population',animation_speed=1000)\n",
    "plt.plot(t, I/N, 'r--', alpha=0.5, lw=2, labels=['SIR'])\n",
    "index = data.index[good_days]\n",
    "plt.plot(index[60:]-data.index[good_days][60],active[good_days][60:]/N,'b-',labels=['Actual Data'])\n",
    "plt.legend()\n",
    "plt.show()\n",
    "\n",
    "#add labels\n",
    "plt.xlabel('Time (day)')\n",
    "plt.ylabel('Fraction')\n",
    "\n",
    "#Add an interact feature\n",
    "interact(graph,b=(0.1,1.0,0.01),g=(0.1,1.0,0.01))"
   ]
  },
  {
   "cell_type": "markdown",
   "metadata": {},
   "source": [
    "- Step 4 Create function to calculate the best fit values of beta and gamma."
   ]
  },
  {
   "cell_type": "code",
   "execution_count": 5,
   "metadata": {},
   "outputs": [
    {
     "data": {
      "text/plain": [
       "array([0.53535302, 0.46634393])"
      ]
     },
     "execution_count": 5,
     "metadata": {},
     "output_type": "execute_result"
    }
   ],
   "source": [
    "def h(t,b,g):\n",
    "    \"\"\"\n",
    "    Function to calculate the infected population\n",
    "    \n",
    "    Parameters\n",
    "    ---------------------------------------------\n",
    "    t: range of time\n",
    "    b: transmission rate\n",
    "    g: recovery rate\n",
    "    \"\"\"\n",
    "    \n",
    "    S,I,R = calc(b,g)\n",
    "    return I/N\n",
    "\n",
    "#Define the x axis and y axis\n",
    "x = t\n",
    "y = active[good_days][60:130]/N\n",
    "\n",
    "#Calculate the best fit values for beta and gamma\n",
    "popt, pcov = curve_fit(h, x, y)\n",
    "popt"
   ]
  },
  {
   "cell_type": "markdown",
   "metadata": {},
   "source": [
    "- Step 5 Calculate the for beta and gamma."
   ]
  },
  {
   "cell_type": "code",
   "execution_count": 6,
   "metadata": {},
   "outputs": [
    {
     "data": {
      "text/plain": [
       "array([0.00754759, 0.00643357])"
      ]
     },
     "execution_count": 6,
     "metadata": {},
     "output_type": "execute_result"
    }
   ],
   "source": [
    "#Calculate the uncertainties for beta and gamma\n",
    "perr = np.sqrt(np.diag(pcov))\n",
    "perr"
   ]
  }
 ],
 "metadata": {
  "kernelspec": {
   "display_name": "Python 3",
   "language": "python",
   "name": "python3"
  },
  "language_info": {
   "codemirror_mode": {
    "name": "ipython",
    "version": 3
   },
   "file_extension": ".py",
   "mimetype": "text/x-python",
   "name": "python",
   "nbconvert_exporter": "python",
   "pygments_lexer": "ipython3",
   "version": "3.8.6"
  }
 },
 "nbformat": 4,
 "nbformat_minor": 4
}
